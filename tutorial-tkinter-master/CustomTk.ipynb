{
 "cells": [
  {
   "cell_type": "code",
   "execution_count": 21,
   "id": "e4ccc2d0-2e8c-4413-a835-e11fd4f6e988",
   "metadata": {},
   "outputs": [],
   "source": [
    "from tkinter import *\n",
    "import customtkinter\n",
    "\n",
    "fields = 'First Name', 'Last Name', 'Country', 'State', 'City', 'Mobile Number'\n",
    "\n",
    "\n",
    "def fetch(entries):\n",
    "    for entry in entries:\n",
    "        field = entry[0]\n",
    "        text = entry[1].get()\n",
    "        print(\"%s:%s\"%(field, text))\n",
    "\n",
    "def makeform(root, fields):\n",
    "    entries = []\n",
    "    for field in fields:\n",
    "        row = customtkinter.CTkFrame(root)\n",
    "        lab = customtkinter.CTkLabel(row, width=15, text=field, anchor='w')\n",
    "        ent = customtkinter.CTkEntry(row)\n",
    "        row.pack(side=TOP, fill=X, padx=5, pady=5)\n",
    "        lab.pack(side=LEFT)\n",
    "        ent.pack(side=RIGHT, fill=X)\n",
    "        entries.append((field, ent))\n",
    "    return entries\n",
    "\n",
    "if __name__ == '__main__':\n",
    "    root = customtkinter.CTk()\n",
    "    ents = makeform(root, fields)\n",
    "    \n",
    "    b_show = customtkinter.CTkButton(root,\n",
    "                   text='Show',\n",
    "                   command=(lambda e=ents: fetch(ents))\n",
    "                   )\n",
    "    b_stop = customtkinter.CTkButton(root,\n",
    "                   text='Quite',\n",
    "                   command=root.destroy)\n",
    "\n",
    "    b_show.pack(side=LEFT, padx=5, pady=5)\n",
    "    b_stop.pack(side=LEFT, padx=5, pady=5)\n",
    "\n",
    "    root.mainloop()"
   ]
  },
  {
   "cell_type": "code",
   "execution_count": null,
   "id": "3f7d0ee9-b995-4cb1-ae9a-50ad70248a3a",
   "metadata": {},
   "outputs": [],
   "source": []
  }
 ],
 "metadata": {
  "kernelspec": {
   "display_name": "Python 3 (ipykernel)",
   "language": "python",
   "name": "python3"
  },
  "language_info": {
   "codemirror_mode": {
    "name": "ipython",
    "version": 3
   },
   "file_extension": ".py",
   "mimetype": "text/x-python",
   "name": "python",
   "nbconvert_exporter": "python",
   "pygments_lexer": "ipython3",
   "version": "3.11.5"
  }
 },
 "nbformat": 4,
 "nbformat_minor": 5
}
