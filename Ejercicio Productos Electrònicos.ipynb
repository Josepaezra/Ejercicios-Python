{
 "cells": [
  {
   "cell_type": "markdown",
   "id": "f8ef4955",
   "metadata": {},
   "source": [
    "# Ejercicio \n",
    "\n",
    "Crear la clase de artìculos Electronicos, definir por lo menos 4 de sus especificaciones como atributos y un metodo para modificar un atributo y uno que muestre las especificaciones.\n",
    "- Atributos:\n",
    "    - Modelo\n",
    "    - Procesador \n",
    "    - Ram\n",
    "    - SO\n",
    "    - Almacenamiento\n",
    "    - Grafica\n",
    "\n",
    "\n",
    "- Metodos:\n",
    "    - Cambiar sistema Operativo"
   ]
  },
  {
   "cell_type": "code",
   "execution_count": 20,
   "id": "8a9a1072",
   "metadata": {},
   "outputs": [],
   "source": [
    "class Electronico():\n",
    "    \n",
    "    def __init__(self, modelo, procesador, ram, SO, almacenamiento, gpu):\n",
    "        self._modelo = modelo\n",
    "        self._procesador = procesador\n",
    "        self._ram = ram\n",
    "        self._SO = SO\n",
    "        self._almacenamiento = almacenamiento\n",
    "        self._gpu = gpu\n",
    "        \n",
    "    def especificaciones(self):        \n",
    "        print(f\"\"\"Modelo:{self._modelo}\n",
    "        \\nProcesador: {self._procesador}\n",
    "        \\nRAM: {self._ram} Gb\n",
    "        \\nSistema Operativo: {self._SO }\n",
    "        \\nAlmacenamiento: {self._almacenamiento} \n",
    "        \\nTarjeta Gráfica: {self._gpu}        \n",
    "        \"\"\")\n",
    "        \n",
    "    def modelo(self):\n",
    "        return self._modelo\n",
    "    \n",
    "    def SO(self):\n",
    "        return self._SO\n",
    "    \n",
    "    def actualizar_SO(self, SO):\n",
    "        self._SO=SO\n",
    "    \n",
    "    "
   ]
  },
  {
   "cell_type": "code",
   "execution_count": 15,
   "id": "e919860e",
   "metadata": {},
   "outputs": [],
   "source": [
    "Dell_1=Electronico(\"TX1000\",\"Intel i9 12000\",64, \"Windows 11\", \"4 Tb\", \"RTX 4060 12 GB\")"
   ]
  },
  {
   "cell_type": "code",
   "execution_count": 16,
   "id": "32c9df59",
   "metadata": {},
   "outputs": [
    {
     "name": "stdout",
     "output_type": "stream",
     "text": [
      "Modelo:TX1000\n",
      "        \n",
      "Procesador: Intel i9 12000\n",
      "        \n",
      "RAM: 64 Gb\n",
      "        \n",
      "Sistema Operativo: Windows 11\n",
      "        \n",
      "Almacenamiento: 4 Tb \n",
      "        \n",
      "Tarjeta Gráfica: RTX 4060 12 GB        \n",
      "        \n"
     ]
    }
   ],
   "source": [
    "Dell_1.especificaciones()"
   ]
  },
  {
   "cell_type": "code",
   "execution_count": 12,
   "id": "f466705f",
   "metadata": {},
   "outputs": [
    {
     "data": {
      "text/plain": [
       "'4 Tb'"
      ]
     },
     "execution_count": 12,
     "metadata": {},
     "output_type": "execute_result"
    }
   ],
   "source": [
    "Dell_1._almacenamiento"
   ]
  },
  {
   "cell_type": "code",
   "execution_count": 17,
   "id": "b848d40a",
   "metadata": {},
   "outputs": [],
   "source": [
    "Dell_1.actualizar_SO(\"Ubuntu 19.04\")"
   ]
  },
  {
   "cell_type": "code",
   "execution_count": null,
   "id": "00604dbf",
   "metadata": {},
   "outputs": [],
   "source": []
  },
  {
   "cell_type": "code",
   "execution_count": 18,
   "id": "c8e22db9",
   "metadata": {},
   "outputs": [
    {
     "name": "stdout",
     "output_type": "stream",
     "text": [
      "Modelo:TX1000\n",
      "        \n",
      "Procesador: Intel i9 12000\n",
      "        \n",
      "RAM: 64 Gb\n",
      "        \n",
      "Sistema Operativo: Ubuntu 19.04\n",
      "        \n",
      "Almacenamiento: 4 Tb \n",
      "        \n",
      "Tarjeta Gráfica: RTX 4060 12 GB        \n",
      "        \n"
     ]
    }
   ],
   "source": [
    "Dell_1.especificaciones()"
   ]
  },
  {
   "cell_type": "markdown",
   "id": "7c317bd5",
   "metadata": {},
   "source": [
    "# Ejercicio\n",
    "\n",
    "Crear subclase a partir de la superclase Electronico para celulares:\n",
    "Añadirle 2 nuevos atributos y un nuevo metodo:\n",
    "\n",
    "Atributos: \n",
    "- capacidad bateria\n",
    "- resolución camara\n",
    "\n",
    "Métodos:\n",
    "\n",
    "- Duracion bateria:\n",
    "Calculado capacidad bateria/500 y dado en horas. \n",
    "\n",
    "\n",
    "\n",
    "Dura"
   ]
  },
  {
   "cell_type": "code",
   "execution_count": 29,
   "id": "38ed5a70",
   "metadata": {},
   "outputs": [],
   "source": [
    "Data= open(\"Documento_X.txt\",\"w\")"
   ]
  },
  {
   "cell_type": "code",
   "execution_count": 30,
   "id": "245c6421",
   "metadata": {},
   "outputs": [
    {
     "data": {
      "text/plain": [
       "20"
      ]
     },
     "execution_count": 30,
     "metadata": {},
     "output_type": "execute_result"
    }
   ],
   "source": [
    "x=\"Participantes Curso:\"\n",
    "\n",
    "Data.write(x)"
   ]
  },
  {
   "cell_type": "code",
   "execution_count": 32,
   "id": "5d4021e2",
   "metadata": {},
   "outputs": [
    {
     "data": {
      "text/plain": [
       "36"
      ]
     },
     "execution_count": 32,
     "metadata": {},
     "output_type": "execute_result"
    }
   ],
   "source": [
    "Data= open(\"Documento_X.txt\",\"a\")\n",
    "Data.write(\"\\nAlejandro Martens, \\nJimmer Carvajal\")"
   ]
  },
  {
   "cell_type": "code",
   "execution_count": null,
   "id": "e27e2f46",
   "metadata": {},
   "outputs": [],
   "source": []
  }
 ],
 "metadata": {
  "kernelspec": {
   "display_name": "Python 3 (ipykernel)",
   "language": "python",
   "name": "python3"
  },
  "language_info": {
   "codemirror_mode": {
    "name": "ipython",
    "version": 3
   },
   "file_extension": ".py",
   "mimetype": "text/x-python",
   "name": "python",
   "nbconvert_exporter": "python",
   "pygments_lexer": "ipython3",
   "version": "3.11.3"
  }
 },
 "nbformat": 4,
 "nbformat_minor": 5
}
