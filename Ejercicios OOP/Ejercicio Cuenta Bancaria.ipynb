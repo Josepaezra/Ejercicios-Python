{
 "cells": [
  {
   "cell_type": "markdown",
   "id": "af90e327",
   "metadata": {},
   "source": [
    "## Ejercicio: Cuenta Bancaria con POO\n",
    "Crear Clase CuentaBancaria con:\n",
    "\n",
    "- **Atributos**:\n",
    "    - Nombre del Titular de la Cuenta\n",
    "    - Balance de la Cuenta (Inicia en 0)\n",
    "\n",
    "- **Métodos para**:\n",
    "    - Depositar Fondos\n",
    "    - Retirar Fondos\n",
    "    - Realizar Transferencias\n",
    "    \n",
    "- **Nota**:\n",
    "    - Cada movimiento debe registrarse en un documento txt.\n",
    "    - Se deben tomar medidas de seguridad para que no ocurran operaciones prohibidas.\n"
   ]
  },
  {
   "cell_type": "code",
   "execution_count": 107,
   "id": "d42823f8",
   "metadata": {},
   "outputs": [],
   "source": [
    "import datetime\n",
    "\n",
    "Fecha = datetime.datetime.now()\n",
    "\n",
    "class CuentaBancaria():\n",
    "    \"\"\"  \"\"\"\n",
    "    \n",
    "    def __init__(self, titular, cedula, balance=0):\n",
    "        self._titular = titular\n",
    "        self._cedula = cedula\n",
    "        self._balance = balance\n",
    "        self.accnt=\"{}.txt\".format(self._cedula) #Creo el nombre del documento\n",
    "        Libro_mayor=open(self.accnt, \"w\") #Creo Documento con nombre self.accnt\n",
    "        #Le agrego Los datos al documento\n",
    "        Datos=\"Titular:{}, Cédula:{}, Balance inicial: {}. Fecha: {} \\n\".format(self._titular,self._cedula,self._balance, Fecha)\n",
    "        Libro_mayor.write(Datos)\n",
    "        \n",
    "    \n",
    "    def deposito(self,cantidad):\n",
    "        self._balance+=cantidad\n",
    "        with open(self.accnt, \"a\") as Libro_mayor:\n",
    "            Libro_mayor.write(\"Deposito: \"+ str(cantidad) + \"\\n\")\n",
    "            Libro_mayor.write(\"Balance: \"+ str(self._balance) +  \"\\n\")\n",
    "        \n",
    "        \n",
    "    \n",
    "    def retiro(self,cantidad):\n",
    "        if self._balance>cantidad and cantidad>0:\n",
    "            self._balance-=cantidad\n",
    "            with open(self.accnt, \"a\") as Libro_mayor:\n",
    "                Libro_mayor.write(\"Retiro: \"+ str(cantidad) + \"\\n\")\n",
    "                Libro_mayor.write(\"Balance: \"+ str(self._balance) +  \"\\n\")\n",
    "        else:\n",
    "            if self._balance<cantidad:\n",
    "                print(\"No posee suficientes fondos en la cuenta\")\n",
    "            else:\n",
    "                print(\"No se permiten retiros de cantidades negativas\")\n",
    "                \n",
    "                \n",
    "    def transferencia(self, beneficiario, cantidad):\n",
    "        beneficiario._balance+=cantidad\n",
    "        self._balance-=cantidad\n",
    "        \n",
    "    \n",
    "    "
   ]
  },
  {
   "cell_type": "code",
   "execution_count": 108,
   "id": "168dcdc8",
   "metadata": {},
   "outputs": [],
   "source": [
    "V_24311351= CuentaBancaria(\"José Páez\",24311351)"
   ]
  },
  {
   "cell_type": "code",
   "execution_count": 103,
   "id": "6e1a7636",
   "metadata": {},
   "outputs": [
    {
     "data": {
      "text/plain": [
       "'José Páez'"
      ]
     },
     "execution_count": 103,
     "metadata": {},
     "output_type": "execute_result"
    }
   ],
   "source": [
    "V_24311351._titular"
   ]
  },
  {
   "cell_type": "code",
   "execution_count": 104,
   "id": "a653af59",
   "metadata": {},
   "outputs": [
    {
     "data": {
      "text/plain": [
       "0"
      ]
     },
     "execution_count": 104,
     "metadata": {},
     "output_type": "execute_result"
    }
   ],
   "source": [
    "V_24311351._balance"
   ]
  },
  {
   "cell_type": "code",
   "execution_count": 105,
   "id": "4bda0da8",
   "metadata": {},
   "outputs": [],
   "source": [
    "V_24311351.deposito(100)"
   ]
  },
  {
   "cell_type": "code",
   "execution_count": 106,
   "id": "c61920f5",
   "metadata": {},
   "outputs": [
    {
     "data": {
      "text/plain": [
       "100"
      ]
     },
     "execution_count": 106,
     "metadata": {},
     "output_type": "execute_result"
    }
   ],
   "source": [
    "V_24311351._balance"
   ]
  },
  {
   "cell_type": "code",
   "execution_count": 99,
   "id": "d3e637d6",
   "metadata": {},
   "outputs": [],
   "source": [
    "V_24311351.retiro(10)"
   ]
  },
  {
   "cell_type": "code",
   "execution_count": 100,
   "id": "752f3977",
   "metadata": {},
   "outputs": [
    {
     "data": {
      "text/plain": [
       "90"
      ]
     },
     "execution_count": 100,
     "metadata": {},
     "output_type": "execute_result"
    }
   ],
   "source": [
    "V_24311351._balance"
   ]
  },
  {
   "cell_type": "code",
   "execution_count": 31,
   "id": "498f72b0",
   "metadata": {},
   "outputs": [
    {
     "name": "stdout",
     "output_type": "stream",
     "text": [
      "No posee suficientes fondos en la cuenta\n"
     ]
    }
   ],
   "source": [
    "V_24311351.retiro(1000)"
   ]
  },
  {
   "cell_type": "code",
   "execution_count": null,
   "id": "a6fd9400",
   "metadata": {},
   "outputs": [],
   "source": []
  },
  {
   "cell_type": "code",
   "execution_count": 11,
   "id": "7bf3d2eb",
   "metadata": {},
   "outputs": [],
   "source": []
  },
  {
   "cell_type": "code",
   "execution_count": 12,
   "id": "52f855b0",
   "metadata": {},
   "outputs": [],
   "source": []
  },
  {
   "cell_type": "code",
   "execution_count": null,
   "id": "d2cddc84",
   "metadata": {},
   "outputs": [],
   "source": []
  },
  {
   "cell_type": "code",
   "execution_count": 32,
   "id": "2077a696",
   "metadata": {},
   "outputs": [],
   "source": [
    "V_12345678=CuentaBancaria(\"Persona2\")"
   ]
  },
  {
   "cell_type": "code",
   "execution_count": 33,
   "id": "95d90ac8",
   "metadata": {},
   "outputs": [
    {
     "data": {
      "text/plain": [
       "0"
      ]
     },
     "execution_count": 33,
     "metadata": {},
     "output_type": "execute_result"
    }
   ],
   "source": [
    "V_12345678._balance"
   ]
  },
  {
   "cell_type": "code",
   "execution_count": 34,
   "id": "dd833697",
   "metadata": {},
   "outputs": [
    {
     "data": {
      "text/plain": [
       "'Persona2'"
      ]
     },
     "execution_count": 34,
     "metadata": {},
     "output_type": "execute_result"
    }
   ],
   "source": [
    "V_12345678._titular"
   ]
  },
  {
   "cell_type": "code",
   "execution_count": 36,
   "id": "09a30e32",
   "metadata": {},
   "outputs": [],
   "source": [
    "V_24311351.transferencia(V_12345678,(50))"
   ]
  },
  {
   "cell_type": "code",
   "execution_count": 37,
   "id": "b028996c",
   "metadata": {},
   "outputs": [
    {
     "data": {
      "text/plain": [
       "40"
      ]
     },
     "execution_count": 37,
     "metadata": {},
     "output_type": "execute_result"
    }
   ],
   "source": [
    "V_24311351._balance"
   ]
  },
  {
   "cell_type": "code",
   "execution_count": 38,
   "id": "75f1e6f5",
   "metadata": {},
   "outputs": [
    {
     "data": {
      "text/plain": [
       "50"
      ]
     },
     "execution_count": 38,
     "metadata": {},
     "output_type": "execute_result"
    }
   ],
   "source": [
    "V_12345678._balance"
   ]
  },
  {
   "cell_type": "code",
   "execution_count": 48,
   "id": "4706ae8f",
   "metadata": {},
   "outputs": [
    {
     "data": {
      "text/plain": [
       "<_io.TextIOWrapper name='abc.txt' mode='w' encoding='cp1252'>"
      ]
     },
     "execution_count": 48,
     "metadata": {},
     "output_type": "execute_result"
    }
   ],
   "source": [
    "open(\"abc.txt\", \"w\")"
   ]
  },
  {
   "cell_type": "code",
   "execution_count": null,
   "id": "a9781467",
   "metadata": {},
   "outputs": [],
   "source": []
  }
 ],
 "metadata": {
  "kernelspec": {
   "display_name": "Python 3 (ipykernel)",
   "language": "python",
   "name": "python3"
  },
  "language_info": {
   "codemirror_mode": {
    "name": "ipython",
    "version": 3
   },
   "file_extension": ".py",
   "mimetype": "text/x-python",
   "name": "python",
   "nbconvert_exporter": "python",
   "pygments_lexer": "ipython3",
   "version": "3.11.3"
  }
 },
 "nbformat": 4,
 "nbformat_minor": 5
}
